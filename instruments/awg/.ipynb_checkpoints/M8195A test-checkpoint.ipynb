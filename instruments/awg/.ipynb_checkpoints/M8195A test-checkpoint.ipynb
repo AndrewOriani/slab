{
 "cells": [
  {
   "cell_type": "code",
   "execution_count": 1,
   "metadata": {
    "collapsed": false
   },
   "outputs": [
    {
     "name": "stdout",
     "output_type": "stream",
     "text": [
      "Warning serial library import failed.\n"
     ]
    },
    {
     "name": "stderr",
     "output_type": "stream",
     "text": [
      "C:\\Users\\F\\Anaconda2\\lib\\site-packages\\IPython\\qt.py:13: ShimWarning: The `IPython.qt` package has been deprecated. You should import from qtconsole instead.\n",
      "  \"You should import from qtconsole instead.\", ShimWarning)\n"
     ]
    },
    {
     "name": "stdout",
     "output_type": "stream",
     "text": [
      "Warning could not load Chase AWG dll, check that dll located at 'C:\\_Lib\\python\\slab\\instruments\\awg\\chase\\dax22000_lib_DLL32.dll'\n",
      "Warning could not load LMS labbrick dll, check that dll located at 'C:\\_Lib\\python\\slab\\instruments\\labbrick\\vnx_fmsynth.dll'\n",
      "Warning could not load LabBrick Gui\n",
      "Could not load labbrick\n",
      "Could not load Dymo USB Scale\n",
      "DSFIT could not import guiqwt\n"
     ]
    }
   ],
   "source": [
    "from M8195A import *"
   ]
  },
  {
   "cell_type": "code",
   "execution_count": 2,
   "metadata": {
    "collapsed": false
   },
   "outputs": [
    {
     "name": "stdout",
     "output_type": "stream",
     "text": [
      "Keysight Technologies,M8195A,DE55A00252,3.0.4.3-2\n",
      "\n"
     ]
    }
   ],
   "source": [
    "m8195a = M8195A(address ='192.168.14.234:5025')\n",
    "print m8195a.get_id()"
   ]
  },
  {
   "cell_type": "code",
   "execution_count": 3,
   "metadata": {
    "collapsed": false
   },
   "outputs": [
    {
     "name": "stdout",
     "output_type": "stream",
     "text": [
      "C:\\Sin10MHzAt64GHz.bin8\n"
     ]
    }
   ],
   "source": [
    "file_name = r'C:\\Sin10MHzAt64GHz.bin8'\n",
    "channel = 4\n",
    "segment_id = 1\n",
    "\n",
    "print file_name"
   ]
  },
  {
   "cell_type": "code",
   "execution_count": 4,
   "metadata": {
    "collapsed": false
   },
   "outputs": [
    {
     "name": "stdout",
     "output_type": "stream",
     "text": [
      ":TRAC4:IMP 1,C:\\Sin10MHzAt64GHz.bin8,BIN8\n"
     ]
    }
   ],
   "source": [
    "write_text =  ':TRAC%d:IMP %d,%s,%s' %(channel,segment_id,file_name,'BIN8')\n",
    "\n",
    "print write_text\n",
    "m8195a.write(write_text)"
   ]
  },
  {
   "cell_type": "code",
   "execution_count": 23,
   "metadata": {
    "collapsed": false
   },
   "outputs": [
    {
     "name": "stdout",
     "output_type": "stream",
     "text": [
      ":TRAC4:IMP 1,\"C:\\Sin10MHzAt64GHz.bin8\",BIN8\n"
     ]
    }
   ],
   "source": [
    "file_name = '\\\"C:\\Sin10MHzAt64GHz.bin8\\\"'\n",
    "\n",
    "write_text = ':TRAC4:IMP 1,' + file_name + ',BIN8' \n",
    "\n",
    "print write_text\n",
    "m8195a.write(write_text)"
   ]
  },
  {
   "cell_type": "code",
   "execution_count": 22,
   "metadata": {
    "collapsed": false
   },
   "outputs": [
    {
     "name": "stdout",
     "output_type": "stream",
     "text": [
      ":TRAC4:IMP 1, \"C:\\Sin10MHzAt64GHz.bin8\", BIN, IONLY, ON, ALEN\n"
     ]
    }
   ],
   "source": [
    "m8195a.stop_output()\n",
    "\n",
    "write_text = ':TRAC4:IMP 1, \\\"C:\\Sin10MHzAt64GHz.bin8\\\", BIN8, IONLY, ON, ALEN'\n",
    "\n",
    "print write_text\n",
    "m8195a.write(write_text)\n",
    "start_output(m8195a)"
   ]
  },
  {
   "cell_type": "code",
   "execution_count": null,
   "metadata": {
    "collapsed": true
   },
   "outputs": [],
   "source": []
  },
  {
   "cell_type": "code",
   "execution_count": null,
   "metadata": {
    "collapsed": true
   },
   "outputs": [],
   "source": []
  }
 ],
 "metadata": {
  "kernelspec": {
   "display_name": "Python 2",
   "language": "python",
   "name": "python2"
  },
  "language_info": {
   "codemirror_mode": {
    "name": "ipython",
    "version": 2
   },
   "file_extension": ".py",
   "mimetype": "text/x-python",
   "name": "python",
   "nbconvert_exporter": "python",
   "pygments_lexer": "ipython2",
   "version": "2.7.11"
  }
 },
 "nbformat": 4,
 "nbformat_minor": 0
}
