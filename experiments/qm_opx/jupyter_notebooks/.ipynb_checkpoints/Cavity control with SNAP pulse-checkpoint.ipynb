{
 "cells": [
  {
   "cell_type": "code",
   "execution_count": 1,
   "metadata": {},
   "outputs": [],
   "source": [
    "import matplotlib as mpl\n",
    "import matplotlib.pyplot as plt\n",
    "import numpy as np\n",
    "from pylab import *\n",
    "from qutip import *\n",
    "from scipy import optimize\n",
    "\n",
    "def plot_wigner(psi, xvec, yvec, cbar = True, norm_amp = None):\n",
    "    W = wigner(psi, xvec, yvec)\n",
    "    wmap = wigner_cmap(W)  # Generate Wigner colormap\n",
    "    if norm_amp == None:\n",
    "        nrm = mpl.colors.Normalize(-W.max(), W.max())\n",
    "    else:\n",
    "        nrm = mpl.colors.Normalize(-norm_amp, norm_amp)\n",
    "    fig, axes = plt.subplots(figsize=(5, 4))\n",
    "    plt1 = axes.contourf(xvec, yvec, W, 100, cmap='RdBu_r', norm=nrm)\n",
    "    if cabr: cb1 = fig.colorbar(plt1, ax=axes)\n",
    "        \n",
    "def plot_wigner_multi(psi_arr, xvec, yvec, cbar=True, norm_amp = None):\n",
    "    l = len(psi_arr)\n",
    "    fig = plt.figure(figsize=(16,3*(int(l/4)+1)))\n",
    "\n",
    "    for kk, psi in enumerate(psi_arr):\n",
    "        \n",
    "        W = wigner(psi, xvec, yvec)\n",
    "        wmap = wigner_cmap(W)  # Generate Wigner colormap\n",
    "        if norm_amp == None:\n",
    "            nrm = mpl.colors.Normalize(-W.max(), W.max())\n",
    "        else:\n",
    "            nrm = mpl.colors.Normalize(-norm_amp, norm_amp)\n",
    "            \n",
    "        ax = fig.add_subplot(int(l/4)+1,4,kk+1)\n",
    "        plt1 = ax.contourf(xvec, yvec, W, 100, cmap='RdBu_r', norm=nrm)\n",
    "        if cbar: fig.colorbar(plt1)"
   ]
  },
  {
   "cell_type": "code",
   "execution_count": 10,
   "metadata": {},
   "outputs": [],
   "source": [
    "dim=25\n",
    "psi_t = (0*fock(dim,0) + 0*fock(dim,1) + 1*fock(dim,2)).unit() # Target state\n",
    "\n",
    "def snap(dim,n,theta):\n",
    "    state = basis(dim,n)\n",
    "    return (1j*theta*state*state.dag()).expm()\n",
    "\n",
    "def compute_final_state(params):\n",
    "    psi_f = basis(dim, 0) # Initital state\n",
    "    for ii,param in enumerate(params[:-1]):\n",
    "        psi_f = snap(dim,ii,pi)*displace(dim, param)*psi_f\n",
    "\n",
    "    psi_f = displace(dim, params[-1])*psi_f\n",
    "    return psi_f\n",
    "\n",
    "def compute_final_state_not_good(params):\n",
    "    psi_f = basis(dim, 0) # Initital state\n",
    "    for ii,param in enumerate(params[:-1]):\n",
    "        psi_f = displace(dim, param)*psi_f\n",
    "        for jj in range(ii+1,0,-2): # SNAP gates on even and odd manifolds alternatively\n",
    "            psi_f = snap(dim,jj-1,pi)*psi_f\n",
    "#             print(ii,jj-1,param)\n",
    "\n",
    "    psi_f = displace(dim, params[-1])*psi_f\n",
    "    return psi_f\n",
    "\n",
    "def cost_function(params):\n",
    "    psi_f = compute_final_state(params)\n",
    "#     psi_f = compute_final_state_complex(params)\n",
    "    cost = 1 - fidelity(psi_t, psi_f)\n",
    "    return cost"
   ]
  },
  {
   "cell_type": "code",
   "execution_count": 12,
   "metadata": {},
   "outputs": [
    {
     "name": "stdout",
     "output_type": "stream",
     "text": [
      "Convergence:  True\n",
      "Displacements:  [ 0.49686221 -1.13306309  0.43234944] , Infidelity =  0.008982240140467668\n",
      "Fidelity =  0.9910177598595323\n"
     ]
    },
    {
     "data": {
      "image/png": "[encoded data removed]",
      "text/plain": [
       "<Figure size 1152x216 with 2 Axes>"
      ]
     },
     "metadata": {
      "needs_background": "light"
     },
     "output_type": "display_data"
    }
   ],
   "source": [
    "#%%time\n",
    "\n",
    "val = 0.9\n",
    "optvals = optimize.minimize(cost_function, np.array([val,-val,val]), method='L-BFGS-B')\n",
    "# methods = ‘Nelder-Mead’ ‘Powell’ ‘CG’ ‘BFGS’ ‘Newton-CG’ ‘L-BFGS-B’ ‘TNC’ ‘COBYLA’ ‘SLSQP’ ‘dogleg’ ‘trust-ncg’\n",
    "\n",
    "print(\"Convergence: \", optvals.success)\n",
    "print(\"Displacements: \", optvals.x, \", Infidelity = \", cost_function(optvals.x))\n",
    "print(\"Fidelity = \", 1-cost_function(optvals.x))\n",
    "xvec = np.linspace(-5, 5, 200)\n",
    "plot_wigner_multi([compute_final_state(optvals.x)],xvec,xvec)"
   ]
  },
  {
   "cell_type": "markdown",
   "metadata": {},
   "source": [
    "## Plot coherent state population"
   ]
  },
  {
   "cell_type": "code",
   "execution_count": 13,
   "metadata": {},
   "outputs": [
    {
     "data": {
      "text/plain": [
       "Text(0, 0.5, 'Population')"
      ]
     },
     "execution_count": 13,
     "metadata": {},
     "output_type": "execute_result"
    },
    {
     "data": {
      "image/png": "[encoded data removed]",
      "text/plain": [
       "<Figure size 720x288 with 2 Axes>"
      ]
     },
     "metadata": {
      "needs_background": "light"
     },
     "output_type": "display_data"
    }
   ],
   "source": [
    "N = 20\n",
    "alpha = 1.14\n",
    "rho_coherent = coherent_dm(N, alpha)\n",
    "\n",
    "fig, axes = plt.subplots(1, 2, figsize=(10,4))\n",
    "\n",
    "bar0 = axes[0].bar(np.arange(0, N), rho_coherent.diag())\n",
    "lbl0 = axes[0].set_title(\"Coherent state alpha = %s\" %(2*alpha))\n",
    "lim0 = axes[0].set_xlim([-.5, 10])\n",
    "axes[0].set_xlabel('Fock state')\n",
    "axes[0].set_ylabel('Population')\n",
    "\n",
    "rho_coherent = coherent_dm(N, 1.14-0.58)\n",
    "bar0 = axes[1].bar(np.arange(0, N), rho_coherent.diag())\n",
    "lbl0 = axes[1].set_title(\"Coherent state alpha = %s\" %(2*alpha))\n",
    "lim0 = axes[1].set_xlim([-.5, 10])\n",
    "axes[0].set_xlabel('Fock state')\n",
    "axes[0].set_ylabel('Population')"
   ]
  },
  {
   "cell_type": "code",
   "execution_count": null,
   "metadata": {},
   "outputs": [],
   "source": []
  }
 ],
 "metadata": {
  "kernelspec": {
   "display_name": "Python 3",
   "language": "python",
   "name": "python3"
  },
  "language_info": {
   "codemirror_mode": {
    "name": "ipython",
    "version": 3
   },
   "file_extension": ".py",
   "mimetype": "text/x-python",
   "name": "python",
   "nbconvert_exporter": "python",
   "pygments_lexer": "ipython3",
   "version": "3.6.5"
  },
  "toc": {
   "base_numbering": 1,
   "nav_menu": {},
   "number_sections": true,
   "sideBar": true,
   "skip_h1_title": false,
   "title_cell": "Table of Contents",
   "title_sidebar": "Contents",
   "toc_cell": false,
   "toc_position": {},
   "toc_section_display": true,
   "toc_window_display": false
  }
 },
 "nbformat": 4,
 "nbformat_minor": 4
}
